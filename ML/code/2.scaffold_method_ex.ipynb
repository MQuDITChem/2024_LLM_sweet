{
 "cells": [
  {
   "cell_type": "code",
   "execution_count": null,
   "metadata": {},
   "outputs": [],
   "source": [
    "import pandas as pd\n",
    "import numpy as np\n",
    "from rdkit import Chem\n",
    "from rdkit.Chem import AllChem, DataStructs\n",
    "from scipy.cluster.hierarchy import linkage, fcluster, dendrogram\n",
    "import matplotlib.pyplot as plt\n",
    "from sklearn.metrics import pairwise_distances"
   ]
  },
  {
   "cell_type": "code",
   "execution_count": null,
   "metadata": {},
   "outputs": [],
   "source": [
    "# Function to calculate the Tanimoto similarity matrix\n",
    "def calculate_tanimoto_similarity(smiles_list):\n",
    "    fingerprints = [\n",
    "        AllChem.GetMorganFingerprintAsBitVect(Chem.MolFromSmiles(smile), 2, nBits=2048)\n",
    "        for smile in smiles_list\n",
    "    ]\n",
    "    num_fps = len(fingerprints)\n",
    "    similarity_matrix = np.zeros((num_fps, num_fps))\n",
    "    for i in range(num_fps):\n",
    "        for j in range(i + 1, num_fps):\n",
    "            similarity = DataStructs.FingerprintSimilarity(\n",
    "                fingerprints[i], fingerprints[j]\n",
    "            )\n",
    "            similarity_matrix[i, j] = similarity\n",
    "            similarity_matrix[j, i] = similarity\n",
    "    return similarity_matrix\n",
    "\n",
    "\n",
    "# Function to perform hierarchical clustering and get the top N similar molecules\n",
    "def hierarchical_clustering(smiles_list, top_n=9):\n",
    "    similarity_matrix = calculate_tanimoto_similarity(smiles_list)\n",
    "    distance_matrix = 1 - similarity_matrix\n",
    "    Z = linkage(pairwise_distances(distance_matrix), method=\"ward\")\n",
    "    clusters = fcluster(Z, t=top_n, criterion=\"maxclust\")\n",
    "\n",
    "    # Get top N similar molecules\n",
    "    clustered_smiles = pd.DataFrame({\"smiles\": smiles_list, \"cluster\": clusters})\n",
    "    top_n_clusters = (\n",
    "        clustered_smiles[\"cluster\"].value_counts().nlargest(top_n).index.tolist()\n",
    "    )\n",
    "    top_n_smiles = clustered_smiles[clustered_smiles[\"cluster\"].isin(top_n_clusters)]\n",
    "\n",
    "    return top_n_smiles, Z"
   ]
  },
  {
   "cell_type": "code",
   "execution_count": null,
   "metadata": {},
   "outputs": [],
   "source": [
    "# Example usage with 100 SMILES strings\n",
    "smiles_list = [\n",
    "    \"list_of_100_smiles_strings\"\n",
    "]  # Replace with actual list of 100 SMILES strings\n",
    "top_n_smiles, Z = hierarchical_clustering(smiles_list, top_n=9)\n",
    "\n",
    "# Plot dendrogram\n",
    "plt.figure(figsize=(10, 7))\n",
    "dendrogram(Z, labels=smiles_list, leaf_rotation=90)\n",
    "plt.show()\n",
    "\n",
    "# Display top 9 clusters\n",
    "print(top_n_smiles)"
   ]
  }
 ],
 "metadata": {
  "kernelspec": {
   "display_name": "swllm",
   "language": "python",
   "name": "python3"
  },
  "language_info": {
   "name": "python",
   "version": "3.10.14"
  }
 },
 "nbformat": 4,
 "nbformat_minor": 2
}
